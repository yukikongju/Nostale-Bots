{
 "cells": [
  {
   "cell_type": "code",
   "execution_count": 5,
   "id": "361958a3",
   "metadata": {},
   "outputs": [],
   "source": [
    "import os\n",
    "\n",
    "from pathlib import Path\n",
    "from roboflow import Roboflow"
   ]
  },
  {
   "cell_type": "code",
   "execution_count": 9,
   "id": "dc85744f",
   "metadata": {},
   "outputs": [
    {
     "name": "stdout",
     "output_type": "stream",
     "text": [
      "/c/Users/emuli/Projects/NostaleBots/notebooks\n",
      "C:\\Users\\emuli\\Projects\\NostaleBots\n"
     ]
    }
   ],
   "source": [
    "!pwd\n",
    "ROOT_DIR = Path(os.path.abspath(os.getcwd())).parent\n",
    "YOLO_DIR = f'{ROOT_DIR}/yolov7'\n",
    "\n",
    "os.chdir(ROOT_DIR)\n",
    "print(os.getcwd())"
   ]
  },
  {
   "cell_type": "code",
   "execution_count": 17,
   "id": "c3e90e5c",
   "metadata": {},
   "outputs": [],
   "source": [
    "# get roboflow api from config.py\n",
    "from config import ROCK_MINING_API\n",
    "rf = Roboflow(api_key=ROCK_MINING_API)"
   ]
  },
  {
   "cell_type": "code",
   "execution_count": 25,
   "id": "b437cafe",
   "metadata": {
    "scrolled": true
   },
   "outputs": [
    {
     "name": "stdout",
     "output_type": "stream",
     "text": [
      "loading Roboflow workspace...\n",
      "loading Roboflow project...\n"
     ]
    }
   ],
   "source": [
    "ROBOFLOW_WORKSPACE = 'nostaleminigames'\n",
    "ROBOFLOW_PROJECT = 'nostale-rock-mining'\n",
    "project = rf.workspace(ROBOFLOW_WORKSPACE).project(ROBOFLOW_PROJECT)"
   ]
  },
  {
   "cell_type": "code",
   "execution_count": 26,
   "id": "4e3d18c8",
   "metadata": {},
   "outputs": [
    {
     "name": "stdout",
     "output_type": "stream",
     "text": [
      "Downloading Dataset Version Zip in Nostale-Rock-Mining-3 to yolov7pytorch: 100% [12844866 / 12844866] bytes\n"
     ]
    },
    {
     "name": "stderr",
     "output_type": "stream",
     "text": [
      "Extracting Dataset Version Zip to Nostale-Rock-Mining-3 in yolov7pytorch:: 100%|█| 480/480 [00:00<00:0\n"
     ]
    }
   ],
   "source": [
    "dataset = project.version(3).download('yolov7')"
   ]
  },
  {
   "cell_type": "code",
   "execution_count": 29,
   "id": "a2d5f92e",
   "metadata": {},
   "outputs": [],
   "source": [
    "# !curl -L \"https://universe.roboflow.com/ds/CixcG2UzeY?key=PJOVOlT5CN\" > roboflow.zip; unzip roboflow.zip; rm roboflow.zip\n",
    "# ! mkdir v-test\n",
    "# ! mv train/ v-test/\n",
    "# ! mv valid/ v-test/"
   ]
  },
  {
   "cell_type": "code",
   "execution_count": null,
   "id": "e6679e24",
   "metadata": {},
   "outputs": [],
   "source": [
    "# skipped: remove roboflow extra junk"
   ]
  },
  {
   "cell_type": "code",
   "execution_count": 32,
   "id": "e47d1fc0",
   "metadata": {},
   "outputs": [
    {
     "name": "stdout",
     "output_type": "stream",
     "text": [
      "\u001b[34m\u001b[1mwandb: \u001b[0mInstall Weights & Biases for YOLOR logging with 'pip install wandb' (recommended)\n",
      "\n",
      "\u001b[34m\u001b[1mautoanchor: \u001b[0mAnalyzing anchors... anchors/target = 5.84, Best Possible Recall (BPR) = 1.0000\n"
     ]
    },
    {
     "name": "stderr",
     "output_type": "stream",
     "text": [
      "YOLOR  v0.1-121-g2fdc7f1 torch 1.13.1+cpu CPU\n",
      "\n",
      "Namespace(weights='yolov7.pt', cfg='yolov7/cfg/training/yolov7.yaml', data='Nostale-Rock-Mining-3/data.yaml', hyp='yolov7/data/hyp.scratch.rock.yaml', epochs=50, batch_size=8, img_size=[640, 640], rect=False, resume=False, nosave=False, notest=False, noautoanchor=False, evolve=False, bucket='', cache_images=False, image_weights=False, device='', multi_scale=False, single_cls=False, adam=False, sync_bn=False, local_rank=-1, workers=8, project='runs/train', entity=None, name='yolov7-rock', exist_ok=False, quad=False, linear_lr=False, label_smoothing=0.0, upload_dataset=False, bbox_interval=-1, save_period=-1, artifact_alias='latest', freeze=[0], v5_metric=False, world_size=1, global_rank=-1, save_dir='runs\\\\train\\\\yolov7-rock', total_batch_size=8)\n",
      "\u001b[34m\u001b[1mtensorboard: \u001b[0mStart with 'tensorboard --logdir runs/train', view at http://localhost:6006/\n",
      "\u001b[34m\u001b[1mhyperparameters: \u001b[0mlr0=0.01, lrf=0.1, momentum=0.937, weight_decay=0.0005, warmup_epochs=3.0, warmup_momentum=0.8, warmup_bias_lr=0.1, box=0.05, cls=0.3, cls_pw=1.0, obj=0.7, obj_pw=1.0, iou_t=0.2, anchor_t=4.0, fl_gamma=0.0, hsv_h=0.015, hsv_s=0.7, hsv_v=0.4, degrees=0.0, translate=0.2, scale=0.5, shear=0.0, perspective=0.0, flipud=0.0, fliplr=0.0, mosaic=1.0, mixup=0.0, copy_paste=0.0, paste_in=0.0, loss_ota=1\n",
      "Overriding model.yaml nc=80 with nc=10\n",
      "\n",
      "                 from  n    params  module                                  arguments                     \n",
      "  0                -1  1       928  models.common.Conv                      [3, 32, 3, 1]                 \n",
      "  1                -1  1     18560  models.common.Conv                      [32, 64, 3, 2]                \n",
      "  2                -1  1     36992  models.common.Conv                      [64, 64, 3, 1]                \n",
      "  3                -1  1     73984  models.common.Conv                      [64, 128, 3, 2]               \n",
      "  4                -1  1      8320  models.common.Conv                      [128, 64, 1, 1]               \n",
      "  5                -2  1      8320  models.common.Conv                      [128, 64, 1, 1]               \n",
      "  6                -1  1     36992  models.common.Conv                      [64, 64, 3, 1]                \n",
      "  7                -1  1     36992  models.common.Conv                      [64, 64, 3, 1]                \n",
      "  8                -1  1     36992  models.common.Conv                      [64, 64, 3, 1]                \n",
      "  9                -1  1     36992  models.common.Conv                      [64, 64, 3, 1]                \n",
      " 10  [-1, -3, -5, -6]  1         0  models.common.Concat                    [1]                           \n",
      " 11                -1  1     66048  models.common.Conv                      [256, 256, 1, 1]              \n",
      " 12                -1  1         0  models.common.MP                        []                            \n",
      " 13                -1  1     33024  models.common.Conv                      [256, 128, 1, 1]              \n",
      " 14                -3  1     33024  models.common.Conv                      [256, 128, 1, 1]              \n",
      " 15                -1  1    147712  models.common.Conv                      [128, 128, 3, 2]              \n",
      " 16          [-1, -3]  1         0  models.common.Concat                    [1]                           \n",
      " 17                -1  1     33024  models.common.Conv                      [256, 128, 1, 1]              \n",
      " 18                -2  1     33024  models.common.Conv                      [256, 128, 1, 1]              \n",
      " 19                -1  1    147712  models.common.Conv                      [128, 128, 3, 1]              \n",
      " 20                -1  1    147712  models.common.Conv                      [128, 128, 3, 1]              \n",
      " 21                -1  1    147712  models.common.Conv                      [128, 128, 3, 1]              \n",
      " 22                -1  1    147712  models.common.Conv                      [128, 128, 3, 1]              \n",
      " 23  [-1, -3, -5, -6]  1         0  models.common.Concat                    [1]                           \n",
      " 24                -1  1    263168  models.common.Conv                      [512, 512, 1, 1]              \n",
      " 25                -1  1         0  models.common.MP                        []                            \n",
      " 26                -1  1    131584  models.common.Conv                      [512, 256, 1, 1]              \n",
      " 27                -3  1    131584  models.common.Conv                      [512, 256, 1, 1]              \n",
      " 28                -1  1    590336  models.common.Conv                      [256, 256, 3, 2]              \n",
      " 29          [-1, -3]  1         0  models.common.Concat                    [1]                           \n",
      " 30                -1  1    131584  models.common.Conv                      [512, 256, 1, 1]              \n",
      " 31                -2  1    131584  models.common.Conv                      [512, 256, 1, 1]              \n",
      " 32                -1  1    590336  models.common.Conv                      [256, 256, 3, 1]              \n",
      " 33                -1  1    590336  models.common.Conv                      [256, 256, 3, 1]              \n",
      " 34                -1  1    590336  models.common.Conv                      [256, 256, 3, 1]              \n",
      " 35                -1  1    590336  models.common.Conv                      [256, 256, 3, 1]              \n",
      " 36  [-1, -3, -5, -6]  1         0  models.common.Concat                    [1]                           \n",
      " 37                -1  1   1050624  models.common.Conv                      [1024, 1024, 1, 1]            \n",
      " 38                -1  1         0  models.common.MP                        []                            \n",
      " 39                -1  1    525312  models.common.Conv                      [1024, 512, 1, 1]             \n",
      " 40                -3  1    525312  models.common.Conv                      [1024, 512, 1, 1]             \n",
      " 41                -1  1   2360320  models.common.Conv                      [512, 512, 3, 2]              \n",
      " 42          [-1, -3]  1         0  models.common.Concat                    [1]                           \n",
      " 43                -1  1    262656  models.common.Conv                      [1024, 256, 1, 1]             \n",
      " 44                -2  1    262656  models.common.Conv                      [1024, 256, 1, 1]             \n",
      " 45                -1  1    590336  models.common.Conv                      [256, 256, 3, 1]              \n",
      " 46                -1  1    590336  models.common.Conv                      [256, 256, 3, 1]              \n",
      " 47                -1  1    590336  models.common.Conv                      [256, 256, 3, 1]              \n",
      " 48                -1  1    590336  models.common.Conv                      [256, 256, 3, 1]              \n",
      " 49  [-1, -3, -5, -6]  1         0  models.common.Concat                    [1]                           \n",
      " 50                -1  1   1050624  models.common.Conv                      [1024, 1024, 1, 1]            \n",
      " 51                -1  1   7609344  models.common.SPPCSPC                   [1024, 512, 1]                \n",
      " 52                -1  1    131584  models.common.Conv                      [512, 256, 1, 1]              \n",
      " 53                -1  1         0  torch.nn.modules.upsampling.Upsample    [None, 2, 'nearest']          \n",
      " 54                37  1    262656  models.common.Conv                      [1024, 256, 1, 1]             \n",
      " 55          [-1, -2]  1         0  models.common.Concat                    [1]                           \n",
      " 56                -1  1    131584  models.common.Conv                      [512, 256, 1, 1]              \n",
      " 57                -2  1    131584  models.common.Conv                      [512, 256, 1, 1]              \n",
      " 58                -1  1    295168  models.common.Conv                      [256, 128, 3, 1]              \n",
      " 59                -1  1    147712  models.common.Conv                      [128, 128, 3, 1]              \n",
      " 60                -1  1    147712  models.common.Conv                      [128, 128, 3, 1]              \n",
      " 61                -1  1    147712  models.common.Conv                      [128, 128, 3, 1]              \n",
      " 62[-1, -2, -3, -4, -5, -6]  1         0  models.common.Concat                    [1]                           \n",
      " 63                -1  1    262656  models.common.Conv                      [1024, 256, 1, 1]             \n",
      " 64                -1  1     33024  models.common.Conv                      [256, 128, 1, 1]              \n",
      " 65                -1  1         0  torch.nn.modules.upsampling.Upsample    [None, 2, 'nearest']          \n",
      " 66                24  1     65792  models.common.Conv                      [512, 128, 1, 1]              \n",
      " 67          [-1, -2]  1         0  models.common.Concat                    [1]                           \n",
      " 68                -1  1     33024  models.common.Conv                      [256, 128, 1, 1]              \n",
      " 69                -2  1     33024  models.common.Conv                      [256, 128, 1, 1]              \n",
      " 70                -1  1     73856  models.common.Conv                      [128, 64, 3, 1]               \n",
      " 71                -1  1     36992  models.common.Conv                      [64, 64, 3, 1]                \n",
      " 72                -1  1     36992  models.common.Conv                      [64, 64, 3, 1]                \n",
      " 73                -1  1     36992  models.common.Conv                      [64, 64, 3, 1]                \n",
      " 74[-1, -2, -3, -4, -5, -6]  1         0  models.common.Concat                    [1]                           \n",
      " 75                -1  1     65792  models.common.Conv                      [512, 128, 1, 1]              \n",
      " 76                -1  1         0  models.common.MP                        []                            \n",
      " 77                -1  1     16640  models.common.Conv                      [128, 128, 1, 1]              \n",
      " 78                -3  1     16640  models.common.Conv                      [128, 128, 1, 1]              \n",
      " 79                -1  1    147712  models.common.Conv                      [128, 128, 3, 2]              \n",
      " 80      [-1, -3, 63]  1         0  models.common.Concat                    [1]                           \n",
      " 81                -1  1    131584  models.common.Conv                      [512, 256, 1, 1]              \n",
      " 82                -2  1    131584  models.common.Conv                      [512, 256, 1, 1]              \n",
      " 83                -1  1    295168  models.common.Conv                      [256, 128, 3, 1]              \n",
      " 84                -1  1    147712  models.common.Conv                      [128, 128, 3, 1]              \n",
      " 85                -1  1    147712  models.common.Conv                      [128, 128, 3, 1]              \n",
      " 86                -1  1    147712  models.common.Conv                      [128, 128, 3, 1]              \n",
      " 87[-1, -2, -3, -4, -5, -6]  1         0  models.common.Concat                    [1]                           \n",
      " 88                -1  1    262656  models.common.Conv                      [1024, 256, 1, 1]             \n",
      " 89                -1  1         0  models.common.MP                        []                            \n",
      " 90                -1  1     66048  models.common.Conv                      [256, 256, 1, 1]              \n",
      " 91                -3  1     66048  models.common.Conv                      [256, 256, 1, 1]              \n",
      " 92                -1  1    590336  models.common.Conv                      [256, 256, 3, 2]              \n",
      " 93      [-1, -3, 51]  1         0  models.common.Concat                    [1]                           \n",
      " 94                -1  1    525312  models.common.Conv                      [1024, 512, 1, 1]             \n",
      " 95                -2  1    525312  models.common.Conv                      [1024, 512, 1, 1]             \n",
      " 96                -1  1   1180160  models.common.Conv                      [512, 256, 3, 1]              \n",
      " 97                -1  1    590336  models.common.Conv                      [256, 256, 3, 1]              \n",
      " 98                -1  1    590336  models.common.Conv                      [256, 256, 3, 1]              \n",
      " 99                -1  1    590336  models.common.Conv                      [256, 256, 3, 1]              \n",
      "100[-1, -2, -3, -4, -5, -6]  1         0  models.common.Concat                    [1]                           \n",
      "101                -1  1   1049600  models.common.Conv                      [2048, 512, 1, 1]             \n",
      "102                75  1    328704  models.common.RepConv                   [128, 256, 3, 1]              \n",
      "103                88  1   1312768  models.common.RepConv                   [256, 512, 3, 1]              \n",
      "104               101  1   5246976  models.common.RepConv                   [512, 1024, 3, 1]             \n",
      "105   [102, 103, 104]  1     82702  models.yolo.IDetect                     [10, [[12, 16, 19, 36, 40, 28], [36, 75, 76, 55, 72, 146], [142, 110, 192, 243, 459, 401]], [256, 512, 1024]]\n",
      "C:\\Users\\emuli\\AppData\\Roaming\\Python\\Python39\\site-packages\\torch\\functional.py:504: UserWarning: torch.meshgrid: in an upcoming release, it will be required to pass the indexing argument. (Triggered internally at C:\\actions-runner\\_work\\pytorch\\pytorch\\builder\\windows\\pytorch\\aten\\src\\ATen\\native\\TensorShape.cpp:3191.)\n",
      "  return _VF.meshgrid(tensors, **kwargs)  # type: ignore[attr-defined]\n",
      "Model Summary: 415 layers, 37245102 parameters, 37245102 gradients, 105.3 GFLOPS\n",
      "\n",
      "Transferred 552/566 items from yolov7.pt\n",
      "Scaled weight_decay = 0.0005\n",
      "Optimizer groups: 95 .bias, 95 conv.weight, 98 other\n",
      "\n",
      "Scanning images:   0%|          | 0/161 [00:00<?, ?it/s]\n",
      "\u001b[34m\u001b[1mtrain: \u001b[0mScanning 'Nostale-Rock-Mining-3\\train\\labels' images and labels... 8 found, 0 missing, 0 empty, 0 corrupted:   5%|4         | 8/161 [00:00<00:02, 75.65it/s]\n",
      "\u001b[34m\u001b[1mtrain: \u001b[0mScanning 'Nostale-Rock-Mining-3\\train\\labels' images and labels... 19 found, 0 missing, 0 empty, 0 corrupted:  12%|#1        | 19/161 [00:00<00:01, 90.94it/s]\n",
      "\u001b[34m\u001b[1mtrain: \u001b[0mScanning 'Nostale-Rock-Mining-3\\train\\labels' images and labels... 29 found, 0 missing, 0 empty, 0 corrupted:  18%|#8        | 29/161 [00:00<00:01, 84.50it/s]\n",
      "\u001b[34m\u001b[1mtrain: \u001b[0mScanning 'Nostale-Rock-Mining-3\\train\\labels' images and labels... 38 found, 0 missing, 0 empty, 0 corrupted:  24%|##3       | 38/161 [00:00<00:01, 82.00it/s]\n",
      "\u001b[34m\u001b[1mtrain: \u001b[0mScanning 'Nostale-Rock-Mining-3\\train\\labels' images and labels... 47 found, 0 missing, 0 empty, 0 corrupted:  29%|##9       | 47/161 [00:00<00:01, 76.64it/s]\n",
      "\u001b[34m\u001b[1mtrain: \u001b[0mScanning 'Nostale-Rock-Mining-3\\train\\labels' images and labels... 55 found, 0 missing, 0 empty, 0 corrupted:  34%|###4      | 55/161 [00:00<00:01, 74.28it/s]\n",
      "\u001b[34m\u001b[1mtrain: \u001b[0mScanning 'Nostale-Rock-Mining-3\\train\\labels' images and labels... 63 found, 0 missing, 0 empty, 0 corrupted:  39%|###9      | 63/161 [00:00<00:01, 75.52it/s]\n",
      "\u001b[34m\u001b[1mtrain: \u001b[0mScanning 'Nostale-Rock-Mining-3\\train\\labels' images and labels... 72 found, 0 missing, 0 empty, 0 corrupted:  45%|####4     | 72/161 [00:00<00:01, 77.53it/s]\n",
      "\u001b[34m\u001b[1mtrain: \u001b[0mScanning 'Nostale-Rock-Mining-3\\train\\labels' images and labels... 80 found, 0 missing, 0 empty, 0 corrupted:  50%|####9     | 80/161 [00:01<00:01, 76.63it/s]\n",
      "\u001b[34m\u001b[1mtrain: \u001b[0mScanning 'Nostale-Rock-Mining-3\\train\\labels' images and labels... 90 found, 0 missing, 0 empty, 0 corrupted:  56%|#####5    | 90/161 [00:01<00:00, 80.51it/s]\n",
      "\u001b[34m\u001b[1mtrain: \u001b[0mScanning 'Nostale-Rock-Mining-3\\train\\labels' images and labels... 99 found, 0 missing, 0 empty, 0 corrupted:  61%|######1   | 99/161 [00:01<00:00, 73.30it/s]\n",
      "\u001b[34m\u001b[1mtrain: \u001b[0mScanning 'Nostale-Rock-Mining-3\\train\\labels' images and labels... 107 found, 0 missing, 0 empty, 0 corrupted:  66%|######6   | 107/161 [00:01<00:00, 72.39it/s]\n",
      "\u001b[34m\u001b[1mtrain: \u001b[0mScanning 'Nostale-Rock-Mining-3\\train\\labels' images and labels... 116 found, 0 missing, 0 empty, 0 corrupted:  72%|#######2  | 116/161 [00:01<00:00, 74.42it/s]\n",
      "\u001b[34m\u001b[1mtrain: \u001b[0mScanning 'Nostale-Rock-Mining-3\\train\\labels' images and labels... 124 found, 0 missing, 0 empty, 0 corrupted:  77%|#######7  | 124/161 [00:01<00:00, 70.86it/s]\n",
      "\u001b[34m\u001b[1mtrain: \u001b[0mScanning 'Nostale-Rock-Mining-3\\train\\labels' images and labels... 133 found, 0 missing, 0 empty, 0 corrupted:  83%|########2 | 133/161 [00:01<00:00, 74.16it/s]\n",
      "\u001b[34m\u001b[1mtrain: \u001b[0mScanning 'Nostale-Rock-Mining-3\\train\\labels' images and labels... 141 found, 0 missing, 0 empty, 0 corrupted:  88%|########7 | 141/161 [00:01<00:00, 71.92it/s]\n",
      "\u001b[34m\u001b[1mtrain: \u001b[0mScanning 'Nostale-Rock-Mining-3\\train\\labels' images and labels... 149 found, 0 missing, 0 empty, 0 corrupted:  93%|#########2| 149/161 [00:01<00:00, 71.77it/s]\n",
      "\u001b[34m\u001b[1mtrain: \u001b[0mScanning 'Nostale-Rock-Mining-3\\train\\labels' images and labels... 157 found, 0 missing, 0 empty, 0 corrupted:  98%|#########7| 157/161 [00:02<00:00, 69.89it/s]\n",
      "\u001b[34m\u001b[1mtrain: \u001b[0mScanning 'Nostale-Rock-Mining-3\\train\\labels' images and labels... 161 found, 0 missing, 0 empty, 0 corrupted: 100%|##########| 161/161 [00:02<00:00, 75.18it/s]\n",
      "\u001b[34m\u001b[1mtrain: \u001b[0mNew cache created: Nostale-Rock-Mining-3\\train\\labels.cache\n",
      "\n",
      "Scanning images:   0%|          | 0/45 [00:00<?, ?it/s]\n",
      "\u001b[34m\u001b[1mval: \u001b[0mScanning 'Nostale-Rock-Mining-3\\valid\\labels' images and labels... 6 found, 0 missing, 0 empty, 0 corrupted:  13%|#3        | 6/45 [00:00<00:00, 59.54it/s]\n",
      "\u001b[34m\u001b[1mval: \u001b[0mScanning 'Nostale-Rock-Mining-3\\valid\\labels' images and labels... 12 found, 0 missing, 0 empty, 0 corrupted:  27%|##6       | 12/45 [00:00<00:00, 41.62it/s]\n",
      "\u001b[34m\u001b[1mval: \u001b[0mScanning 'Nostale-Rock-Mining-3\\valid\\labels' images and labels... 18 found, 0 missing, 0 empty, 0 corrupted:  40%|####      | 18/45 [00:00<00:00, 47.00it/s]\n",
      "\u001b[34m\u001b[1mval: \u001b[0mScanning 'Nostale-Rock-Mining-3\\valid\\labels' images and labels... 26 found, 0 missing, 0 empty, 0 corrupted:  58%|#####7    | 26/45 [00:00<00:00, 56.94it/s]\n",
      "\u001b[34m\u001b[1mval: \u001b[0mScanning 'Nostale-Rock-Mining-3\\valid\\labels' images and labels... 33 found, 0 missing, 0 empty, 0 corrupted:  73%|#######3  | 33/45 [00:00<00:00, 60.17it/s]\n",
      "\u001b[34m\u001b[1mval: \u001b[0mScanning 'Nostale-Rock-Mining-3\\valid\\labels' images and labels... 40 found, 0 missing, 0 empty, 0 corrupted:  89%|########8 | 40/45 [00:00<00:00, 61.16it/s]\n",
      "\u001b[34m\u001b[1mval: \u001b[0mScanning 'Nostale-Rock-Mining-3\\valid\\labels' images and labels... 45 found, 0 missing, 0 empty, 0 corrupted: 100%|##########| 45/45 [00:00<00:00, 58.24it/s]\n",
      "\u001b[34m\u001b[1mval: \u001b[0mNew cache created: Nostale-Rock-Mining-3\\valid\\labels.cache\n",
      "Image sizes 640 train, 640 test\n",
      "Using 8 dataloader workers\n",
      "Logging results to runs\\train\\yolov7-rock\n",
      "Starting training for 50 epochs...\n",
      "\n",
      "     Epoch   gpu_mem       box       obj       cls     total    labels  img_size\n",
      "\n",
      "  0%|          | 0/21 [00:00<?, ?it/s]\n",
      "  0%|          | 0/21 [00:24<?, ?it/s]\n",
      "Traceback (most recent call last):\n",
      "  File \"C:\\Users\\emuli\\Projects\\NostaleBots\\yolov7\\train.py\", line 616, in <module>\n",
      "    train(hyp, opt, device, tb_writer)\n",
      "  File \"C:\\Users\\emuli\\Projects\\NostaleBots\\yolov7\\train.py\", line 361, in train\n",
      "    pred = model(imgs)  # forward\n",
      "  File \"C:\\Users\\emuli\\AppData\\Roaming\\Python\\Python39\\site-packages\\torch\\nn\\modules\\module.py\", line 1194, in _call_impl\n",
      "    return forward_call(*input, **kwargs)\n",
      "  File \"C:\\Users\\emuli\\Projects\\NostaleBots\\yolov7\\models\\yolo.py\", line 599, in forward\n",
      "    return self.forward_once(x, profile)  # single-scale inference, train\n",
      "  File \"C:\\Users\\emuli\\Projects\\NostaleBots\\yolov7\\models\\yolo.py\", line 625, in forward_once\n",
      "    x = m(x)  # run\n",
      "  File \"C:\\Users\\emuli\\AppData\\Roaming\\Python\\Python39\\site-packages\\torch\\nn\\modules\\module.py\", line 1194, in _call_impl\n",
      "    return forward_call(*input, **kwargs)\n",
      "  File \"C:\\Users\\emuli\\Projects\\NostaleBots\\yolov7\\models\\common.py\", line 108, in forward\n",
      "    return self.act(self.bn(self.conv(x)))\n",
      "  File \"C:\\Users\\emuli\\AppData\\Roaming\\Python\\Python39\\site-packages\\torch\\nn\\modules\\module.py\", line 1194, in _call_impl\n",
      "    return forward_call(*input, **kwargs)\n",
      "  File \"C:\\Users\\emuli\\AppData\\Roaming\\Python\\Python39\\site-packages\\torch\\nn\\modules\\conv.py\", line 463, in forward\n",
      "    return self._conv_forward(input, self.weight, self.bias)\n",
      "  File \"C:\\Users\\emuli\\AppData\\Roaming\\Python\\Python39\\site-packages\\torch\\nn\\modules\\conv.py\", line 459, in _conv_forward\n",
      "    return F.conv2d(input, weight, bias, self.stride,\n",
      "RuntimeError: [enforce fail at C:\\actions-runner\\_work\\pytorch\\pytorch\\builder\\windows\\pytorch\\c10\\core\\impl\\alloc_cpu.cpp:72] data. DefaultCPUAllocator: not enough memory: you tried to allocate 26214400 bytes.\n"
     ]
    }
   ],
   "source": [
    "# train \n",
    "!python yolov7/train.py --device 0 --batch-size 8 --data Nostale-Rock-Mining-3/data.yaml --img 640 640 --cfg yolov7/cfg/training/yolov7.yaml --weights yolov7.pt --name yolov7-rock --hyp yolov7/data/hyp.scratch.rock.yaml --epochs 50"
   ]
  },
  {
   "cell_type": "code",
   "execution_count": null,
   "id": "24785728",
   "metadata": {},
   "outputs": [],
   "source": []
  }
 ],
 "metadata": {
  "kernelspec": {
   "display_name": "Python 3 (ipykernel)",
   "language": "python",
   "name": "python3"
  },
  "language_info": {
   "codemirror_mode": {
    "name": "ipython",
    "version": 3
   },
   "file_extension": ".py",
   "mimetype": "text/x-python",
   "name": "python",
   "nbconvert_exporter": "python",
   "pygments_lexer": "ipython3",
   "version": "3.9.7"
  }
 },
 "nbformat": 4,
 "nbformat_minor": 5
}
